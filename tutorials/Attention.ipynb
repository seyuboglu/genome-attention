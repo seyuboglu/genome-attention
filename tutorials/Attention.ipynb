{
 "cells": [
  {
   "cell_type": "code",
   "execution_count": null,
   "metadata": {},
   "outputs": [],
   "source": [
    "import tensorflow as tf"
   ]
  },
  {
   "cell_type": "code",
   "execution_count": 2,
   "metadata": {},
   "outputs": [],
   "source": [
    "tf.enable_eager_execution()"
   ]
  },
  {
   "cell_type": "code",
   "execution_count": 5,
   "metadata": {},
   "outputs": [],
   "source": [
    "num_channels = 4"
   ]
  },
  {
   "cell_type": "code",
   "execution_count": 10,
   "metadata": {},
   "outputs": [],
   "source": [
    "H = tf.random_uniform([2, 10, num_channels], maxval=4, dtype=tf.int32)    "
   ]
  },
  {
   "cell_type": "code",
   "execution_count": 8,
   "metadata": {},
   "outputs": [],
   "source": [
    "#Q = tf.layers.dense(H, num_channels)"
   ]
  },
  {
   "cell_type": "code",
   "execution_count": 14,
   "metadata": {},
   "outputs": [],
   "source": [
    "Q = tf.random_uniform([2, 10, num_channels], maxval=2, dtype=tf.int32)"
   ]
  },
  {
   "cell_type": "code",
   "execution_count": 19,
   "metadata": {},
   "outputs": [
    {
     "data": {
      "text/plain": [
       "<tf.Tensor: id=50, shape=(2, 10, 4), dtype=int32, numpy=\n",
       "array([[[0, 0, 1, 0],\n",
       "        [1, 0, 0, 0],\n",
       "        [0, 1, 1, 1],\n",
       "        [0, 1, 0, 0],\n",
       "        [1, 1, 0, 1],\n",
       "        [0, 0, 0, 1],\n",
       "        [0, 0, 1, 0],\n",
       "        [0, 0, 0, 0],\n",
       "        [0, 0, 0, 0],\n",
       "        [1, 0, 0, 0]],\n",
       "\n",
       "       [[0, 0, 0, 1],\n",
       "        [1, 1, 1, 0],\n",
       "        [1, 0, 0, 0],\n",
       "        [1, 1, 0, 0],\n",
       "        [0, 0, 1, 0],\n",
       "        [0, 1, 0, 0],\n",
       "        [0, 1, 0, 0],\n",
       "        [1, 0, 0, 0],\n",
       "        [0, 0, 0, 0],\n",
       "        [0, 0, 0, 1]]], dtype=int32)>"
      ]
     },
     "execution_count": 19,
     "metadata": {},
     "output_type": "execute_result"
    }
   ],
   "source": [
    "Q"
   ]
  },
  {
   "cell_type": "code",
   "execution_count": 20,
   "metadata": {},
   "outputs": [
    {
     "data": {
      "text/plain": [
       "<tf.Tensor: id=42, shape=(2, 10, 4), dtype=int32, numpy=\n",
       "array([[[1, 3, 1, 3],\n",
       "        [1, 3, 1, 3],\n",
       "        [2, 0, 3, 2],\n",
       "        [1, 1, 2, 0],\n",
       "        [0, 0, 0, 1],\n",
       "        [2, 0, 3, 1],\n",
       "        [2, 1, 0, 2],\n",
       "        [1, 3, 1, 0],\n",
       "        [0, 1, 3, 3],\n",
       "        [1, 2, 2, 2]],\n",
       "\n",
       "       [[1, 3, 2, 2],\n",
       "        [1, 0, 1, 0],\n",
       "        [1, 3, 3, 1],\n",
       "        [3, 1, 3, 2],\n",
       "        [1, 1, 0, 0],\n",
       "        [3, 2, 1, 3],\n",
       "        [3, 1, 3, 3],\n",
       "        [1, 3, 3, 2],\n",
       "        [2, 1, 3, 1],\n",
       "        [3, 2, 3, 2]]], dtype=int32)>"
      ]
     },
     "execution_count": 20,
     "metadata": {},
     "output_type": "execute_result"
    }
   ],
   "source": [
    "H"
   ]
  },
  {
   "cell_type": "code",
   "execution_count": 17,
   "metadata": {},
   "outputs": [],
   "source": [
    "A = tf.matmul(Q, H, transpose_b = True)"
   ]
  },
  {
   "cell_type": "code",
   "execution_count": null,
   "metadata": {},
   "outputs": [],
   "source": [
    "A"
   ]
  },
  {
   "cell_type": "code",
   "execution_count": null,
   "metadata": {},
   "outputs": [],
   "source": [
    "C = tf.matmul(A, H)"
   ]
  },
  {
   "cell_type": "code",
   "execution_count": null,
   "metadata": {},
   "outputs": [],
   "source": [
    "tf.concat([H, C], axis=2)"
   ]
  },
  {
   "cell_type": "code",
   "execution_count": null,
   "metadata": {},
   "outputs": [],
   "source": []
  }
 ],
 "metadata": {
  "kernelspec": {
   "display_name": "Python 3",
   "language": "python",
   "name": "python3"
  },
  "language_info": {
   "codemirror_mode": {
    "name": "ipython",
    "version": 3
   },
   "file_extension": ".py",
   "mimetype": "text/x-python",
   "name": "python",
   "nbconvert_exporter": "python",
   "pygments_lexer": "ipython3",
   "version": "3.6.7"
  }
 },
 "nbformat": 4,
 "nbformat_minor": 2
}
