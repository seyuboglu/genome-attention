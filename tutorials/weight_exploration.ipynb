{
 "cells": [
  {
   "cell_type": "code",
   "execution_count": 3,
   "metadata": {},
   "outputs": [],
   "source": [
    "from tensorflow.python.tools.inspect_checkpoint import print_tensors_in_checkpoint_file\n",
    "import tensorflow as tf"
   ]
  },
  {
   "cell_type": "markdown",
   "metadata": {},
   "source": [
    "Decay Factors"
   ]
  },
  {
   "cell_type": "code",
   "execution_count": 14,
   "metadata": {},
   "outputs": [
    {
     "name": "stdout",
     "output_type": "stream",
     "text": [
      "tensor_name:  learned_exponential0/decay_factor\n",
      "[nan]\n",
      "tensor_name:  learned_exponential1/decay_factor\n",
      "[nan]\n",
      "tensor_name:  learned_exponential2/decay_factor\n",
      "[nan]\n",
      "tensor_name:  learned_exponential3/decay_factor\n",
      "[nan]\n",
      "tensor_name:  learned_exponential4/decay_factor\n",
      "[nan]\n",
      "tensor_name:  learned_exponential5/decay_factor\n",
      "Key learned_exponential5/decay_factor not found in checkpoint\n",
      "tensor_name:  learned_exponential6/decay_factor\n",
      "Key learned_exponential6/decay_factor not found in checkpoint\n",
      "tensor_name:  learned_exponential7/decay_factor\n",
      "Key learned_exponential7/decay_factor not found in checkpoint\n",
      "tensor_name:  learned_exponential8/decay_factor\n",
      "Key learned_exponential8/decay_factor not found in checkpoint\n",
      "tensor_name:  learned_exponential9/decay_factor\n",
      "Key learned_exponential9/decay_factor not found in checkpoint\n",
      "tensor_name:  learned_exponential10/decay_factor\n",
      "Key learned_exponential10/decay_factor not found in checkpoint\n",
      "tensor_name:  learned_exponential11/decay_factor\n",
      "Key learned_exponential11/decay_factor not found in checkpoint\n",
      "tensor_name:  learned_exponential12/decay_factor\n",
      "Key learned_exponential12/decay_factor not found in checkpoint\n",
      "tensor_name:  learned_exponential13/decay_factor\n",
      "Key learned_exponential13/decay_factor not found in checkpoint\n",
      "tensor_name:  learned_exponential14/decay_factor\n",
      "Key learned_exponential14/decay_factor not found in checkpoint\n",
      "tensor_name:  learned_exponential15/decay_factor\n",
      "Key learned_exponential15/decay_factor not found in checkpoint\n"
     ]
    }
   ],
   "source": [
    "for i in range(16):\n",
    "    print_tensors_in_checkpoint_file(\"/data/restore/exponential_learned/model/model_best.tf\", f\"learned_exponential{i}/decay_factor\", all_tensors=False)\n",
    "    \n",
    "    \n",
    "    \n",
    "    \n",
    "    \n",
    "    "
   ]
  },
  {
   "cell_type": "code",
   "execution_count": null,
   "metadata": {},
   "outputs": [],
   "source": []
  }
 ],
 "metadata": {
  "kernelspec": {
   "display_name": "Python 3",
   "language": "python",
   "name": "python3"
  },
  "language_info": {
   "codemirror_mode": {
    "name": "ipython",
    "version": 3
   },
   "file_extension": ".py",
   "mimetype": "text/x-python",
   "name": "python",
   "nbconvert_exporter": "python",
   "pygments_lexer": "ipython3",
   "version": "3.6.7"
  }
 },
 "nbformat": 4,
 "nbformat_minor": 2
}
