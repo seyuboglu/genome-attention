{
 "cells": [
  {
   "cell_type": "code",
   "execution_count": 1,
   "metadata": {},
   "outputs": [],
   "source": [
    "import h5py"
   ]
  },
  {
   "cell_type": "markdown",
   "metadata": {},
   "source": [
    "Let's load the entire file."
   ]
  },
  {
   "cell_type": "code",
   "execution_count": 7,
   "metadata": {},
   "outputs": [],
   "source": [
    "f = h5py.File(\"/data/genome-attention/l131k_w128.h5\", 'r')"
   ]
  },
  {
   "cell_type": "code",
   "execution_count": 8,
   "metadata": {},
   "outputs": [
    {
     "data": {
      "text/plain": [
       "['pool_width',\n",
       " 'target_labels',\n",
       " 'test_in',\n",
       " 'test_na',\n",
       " 'test_out',\n",
       " 'train_in',\n",
       " 'train_na',\n",
       " 'train_out',\n",
       " 'valid_in',\n",
       " 'valid_na',\n",
       " 'valid_out']"
      ]
     },
     "execution_count": 8,
     "metadata": {},
     "output_type": "execute_result"
    }
   ],
   "source": [
    "list(f.keys())"
   ]
  },
  {
   "cell_type": "code",
   "execution_count": 9,
   "metadata": {},
   "outputs": [
    {
     "data": {
      "text/plain": [
       "<HDF5 dataset \"target_labels\": shape (4229,), type \"|S29\">"
      ]
     },
     "execution_count": 9,
     "metadata": {},
     "output_type": "execute_result"
    }
   ],
   "source": [
    "f['target_labels']"
   ]
  },
  {
   "cell_type": "markdown",
   "metadata": {},
   "source": [
    "**Training In**\n",
    "\n",
    "Size: 13,047 \n",
    "\n",
    "Length: 131,072 bp\n",
    "\n",
    "Shape: 131,072 x 4"
   ]
  },
  {
   "cell_type": "code",
   "execution_count": 10,
   "metadata": {},
   "outputs": [
    {
     "data": {
      "text/plain": [
       "<HDF5 dataset \"train_in\": shape (13047, 131072, 4), type \"|b1\">"
      ]
     },
     "execution_count": 10,
     "metadata": {},
     "output_type": "execute_result"
    }
   ],
   "source": [
    "f['train_in']"
   ]
  },
  {
   "cell_type": "markdown",
   "metadata": {},
   "source": [
    "**Training Out**\n",
    "\n",
    "Size: 13,047 \n",
    "\n",
    "Length: 1024 buckets \n",
    "\n",
    "Labels: 4229 labels\n",
    "\n",
    "Shape: 1024 x 4229\n"
   ]
  },
  {
   "cell_type": "code",
   "execution_count": 13,
   "metadata": {},
   "outputs": [
    {
     "data": {
      "text/plain": [
       "array([[1.034 , 0.    , 0.9663, ..., 0.    , 0.    , 0.4238],\n",
       "       [0.4507, 0.    , 0.    , ..., 0.    , 0.    , 0.    ],\n",
       "       [0.7114, 0.    , 0.3726, ..., 0.    , 0.    , 0.    ],\n",
       "       ...,\n",
       "       [1.17  , 0.2146, 1.964 , ..., 0.    , 0.    , 0.    ],\n",
       "       [1.674 , 0.0792, 0.9824, ..., 0.    , 0.    , 0.    ],\n",
       "       [1.825 , 0.    , 0.0983, ..., 0.    , 0.    , 0.    ]],\n",
       "      dtype=float16)"
      ]
     },
     "execution_count": 13,
     "metadata": {},
     "output_type": "execute_result"
    }
   ],
   "source": [
    "f['train_out'][0]"
   ]
  },
  {
   "cell_type": "code",
   "execution_count": null,
   "metadata": {},
   "outputs": [],
   "source": []
  }
 ],
 "metadata": {
  "kernelspec": {
   "display_name": "Python 3",
   "language": "python",
   "name": "python3"
  },
  "language_info": {
   "codemirror_mode": {
    "name": "ipython",
    "version": 3
   },
   "file_extension": ".py",
   "mimetype": "text/x-python",
   "name": "python",
   "nbconvert_exporter": "python",
   "pygments_lexer": "ipython3",
   "version": "3.6.7"
  }
 },
 "nbformat": 4,
 "nbformat_minor": 2
}
